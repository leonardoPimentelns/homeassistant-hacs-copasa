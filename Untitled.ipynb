{
 "cells": [
  {
   "cell_type": "code",
   "execution_count": 7,
   "id": "03986872-5252-428c-89ec-bf869218e68b",
   "metadata": {},
   "outputs": [],
   "source": [
    "import json\n",
    "import requests\n",
    "from datetime import timedelta,datetime\n",
    "import pandas as pd\n",
    "from io import BytesIO\n",
    "\n",
    "from barcode import EAN13\n",
    "from barcode.writer import SVGWriter\n",
    "import barcode\n",
    "EAN = barcode.get_barcode_class('itf')\n",
    "barcode.PROVIDED_BARCODES\n",
    "\n",
    "REGISTRATION =\"132586835\"\n",
    "IDENTIFIER = \"132586746\"\n",
    "CPF_CNPJ= \"099.587.806-40\"\n",
    "\n",
    "def get_costumer_id():\n",
    "    \n",
    "    url = \"https://copasaportalprd.azurewebsites.net/Copasa.Portal/Services/MyAccount_ListIdentifiers_GetIdentifiers\" \n",
    "    token =\"CpfCnpj=\"+CPF_CNPJ+\"&url=https://copasaproddyn365api.azurewebsites.net\"\n",
    "    headers = {'Content-Type': 'application/x-www-form-urlencoded'}\n",
    "    resp = requests.post(url,data=token,headers=headers)\n",
    "    costumer = json.loads(resp.content)\n",
    "    costumer = costumer[0]['contactid']\n",
    "    return costumer\n",
    "   \n",
    "\n",
    "\n",
    "\n",
    "def get_invoice_details():\n",
    "    reference = pd.to_datetime('today')-pd.DateOffset(months=1)\n",
    "    reference = reference.strftime('%Y%m')\n",
    "    url = \"https://copasaproddyn365api.azurewebsites.net/api/Ocorrencia/MyAccount_DuplicateOfAccounts_GetInvoiceDetails\" \n",
    "    token= {\"Registration\":REGISTRATION,\"Reference\":reference,\"Company\":\"Copasa\"}\n",
    "    \n",
    "    resp = requests.post(url, json = token)\n",
    "    invoice_details = json.loads(resp.content)\n",
    "   \n",
    "    return  invoice_details\n",
    "    \n",
    "\n",
    "\n",
    "\n",
    "def get_paid_invoices():\n",
    "    url = \"https://copasaproddyn365api.azurewebsites.net/api/Ocorrencia/MyAccount_DuplicateOfAccounts_GetPaidInvoices\"\n",
    "    token = {\"Identifier\":IDENTIFIER,\"Registration\":REGISTRATION,\"idCpfCnpj\":get_costumer_id(),\"Company\":\"Copasa\"}\n",
    "    \n",
    "    resp = requests.post(url, json = token)\n",
    "    invoices = json.loads(resp.content)\n",
    "    return  invoices\n",
    "\n",
    "\n",
    "\n",
    "def get_open_invoices():\n",
    "    url = \"https://copasaproddyn365api.azurewebsites.net/api/Ocorrencia/MyAccount_DuplicateOfAccounts_GetOpenInvoices\"\n",
    "    token = {\"Identifier\":IDENTIFIER,\"Registration\":REGISTRATION,\"idCpfCnpj\":get_costumer_id(),\"Company\":\"Copasa\"}\n",
    "    \n",
    "    resp = requests.post(url, json = token)\n",
    "    invoices = json.loads(resp.content)\n",
    "    barcode = invoices['faturas'][0]['numeroCodigoBarras']\n",
    "    with open(\"/local/barcode.svg\", \"wb\") as f:\n",
    "        EAN(str(barcode), writer=SVGWriter()).write(f)\n",
    "\n",
    "    return  invoices\n",
    "\n"
   ]
  },
  {
   "cell_type": "code",
   "execution_count": 1,
   "id": "1c52e7f1-5263-4b1e-9244-55f6a0fcf8af",
   "metadata": {},
   "outputs": [
    {
     "data": {
      "text/plain": [
       "'new_code1.png'"
      ]
     },
     "execution_count": 1,
     "metadata": {},
     "output_type": "execute_result"
    }
   ],
   "source": [
    "\n"
   ]
  },
  {
   "cell_type": "code",
   "execution_count": null,
   "id": "a21f07af-dd83-49e8-9bcd-b4880a30f956",
   "metadata": {},
   "outputs": [],
   "source": []
  }
 ],
 "metadata": {
  "kernelspec": {
   "display_name": "Python 3 (ipykernel)",
   "language": "python",
   "name": "python3"
  },
  "language_info": {
   "codemirror_mode": {
    "name": "ipython",
    "version": 3
   },
   "file_extension": ".py",
   "mimetype": "text/x-python",
   "name": "python",
   "nbconvert_exporter": "python",
   "pygments_lexer": "ipython3",
   "version": "3.10.7"
  }
 },
 "nbformat": 4,
 "nbformat_minor": 5
}
