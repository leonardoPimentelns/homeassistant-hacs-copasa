{
 "cells": [
  {
   "cell_type": "code",
   "execution_count": 45,
   "id": "03986872-5252-428c-89ec-bf869218e68b",
   "metadata": {},
   "outputs": [
    {
     "name": "stdout",
     "output_type": "stream",
     "text": [
      "{'valorFatura': '135.27', 'valorUltimaFatura': '125.44', 'diferenca': 7.84, 'Faturas': {'numeroFatura': '122720292384', 'referencia': '11-2022', 'dataVencimento': '03-12-2022', 'qrcode': 'https://wwwapp.copasa.com.br/servicos/WebServiceAPI/Prd/CopasaAtende/api/fatura/exibe/QRCode/132586835/122720292384/11-2022/03-12-2022/135.27', 'barcode': '82680000001352700191001227202923843145200582'}}\n"
     ]
    }
   ],
   "source": [
    "import json\n",
    "import requests\n",
    "from datetime import timedelta,datetime\n",
    "import pandas as pd\n",
    "from io import BytesIO\n",
    "\n",
    "from barcode.writer import SVGWriter\n",
    "import barcode\n",
    "\n",
    "EAN = barcode.get_barcode_class('itf')\n",
    "barcode.PROVIDED_BARCODES\n",
    "\n",
    "REGISTRATION =\"132586835\"\n",
    "IDENTIFIER = \"132586746\"\n",
    "CPF_CNPJ= \"099.587.806-40\"\n",
    "\n",
    "def get_costumer_id():\n",
    "    \n",
    "    url = \"https://copasaportalprd.azurewebsites.net/Copasa.Portal/Services/MyAccount_ListIdentifiers_GetIdentifiers\" \n",
    "    token =\"CpfCnpj=\"+CPF_CNPJ+\"&url=https://copasaproddyn365api.azurewebsites.net\"\n",
    "    headers = {'Content-Type': 'application/x-www-form-urlencoded'}\n",
    "    resp = requests.post(url,data=token,headers=headers)\n",
    "    costumer = json.loads(resp.content)\n",
    "    costumer = costumer[0]['contactid']\n",
    "    return costumer\n",
    "   \n",
    "\n",
    "\n",
    "\n",
    "def get_invoice_details():\n",
    "    reference = pd.to_datetime('today')-pd.DateOffset(months=1)\n",
    "    reference = reference.strftime('%Y%m')\n",
    "    url = \"https://copasaproddyn365api.azurewebsites.net/api/Ocorrencia/MyAccount_DuplicateOfAccounts_GetInvoiceDetails\" \n",
    "    token= {\"Registration\":REGISTRATION,\"Reference\":reference,\"Company\":\"Copasa\"}\n",
    "    \n",
    "    resp = requests.post(url, json = token)\n",
    "    invoice_details = json.loads(resp.content)\n",
    "   \n",
    "    return  invoice_details\n",
    "    \n",
    "\n",
    "\n",
    "\n",
    "def get_paid_invoices():\n",
    "    url = \"https://copasaproddyn365api.azurewebsites.net/api/Ocorrencia/MyAccount_DuplicateOfAccounts_GetPaidInvoices\"\n",
    "    token = {\"Identifier\":IDENTIFIER,\"Registration\":REGISTRATION,\"idCpfCnpj\":get_costumer_id(),\"Company\":\"Copasa\"}\n",
    "    \n",
    "    resp = requests.post(url, json = token)\n",
    "    invoices = json.loads(resp.content)\n",
    "    return  invoices\n",
    "\n",
    "def get_open_invoices():\n",
    "    url = \"https://copasaproddyn365api.azurewebsites.net/api/Ocorrencia/MyAccount_DuplicateOfAccounts_GetOpenInvoices\"\n",
    "    token = {\"Identifier\":IDENTIFIER,\"Registration\":REGISTRATION,\"idCpfCnpj\":get_costumer_id(),\"Company\":\"Copasa\"}\n",
    "    \n",
    "    resp = requests.post(url, json = token)\n",
    "    invoices = json.loads(resp.content)\n",
    "    barcode = invoices['faturas'][0]['numeroCodigoBarras']\n",
    "    numeroFatura = invoices['faturas'][0]['numeroFatura']\n",
    "    valorUltimaFatura = get_paid_invoices()\n",
    "    valorUltimaFatura =valorUltimaFatura['contas'][0]['valorTotalFatura'].replace('.','').replace(',','.')\n",
    "    valorFatura = invoices['faturas'][0]['valorFatura'].replace('.','').replace(',','.')\n",
    "    diferenca = (float(valorFatura) - float(valorUltimaFatura)) /(float(valorUltimaFatura))*100 \n",
    "    referencia = invoices['faturas'][0]['referencia']\n",
    "    dataVencimento = invoices['faturas'][0]['dataVencimento']\n",
    "    dataVencimento = datetime.strptime(dataVencimento, '%Y%m%d').strftime(\"%d-%m-%Y\")\n",
    "    referencia = datetime.strptime(referencia, '%Y%m').strftime(\"%m-%Y\")\n",
    "    qrcode =\"https://wwwapp.copasa.com.br/servicos/WebServiceAPI/Prd/CopasaAtende/api/fatura/exibe/QRCode/\"+REGISTRATION+\"/\"+numeroFatura+\"/\"+referencia+\"/\"+dataVencimento+\"/\"+valorFatura+\"\"\n",
    "    invoices = {\"valorFatura\":valorFatura,\"valorUltimaFatura\":valorUltimaFatura,\"diferenca\":round(diferenca,2),\"Faturas\":{\"numeroFatura\":numeroFatura,'referencia':referencia,\"dataVencimento\":dataVencimento,\"qrcode\":qrcode,\"barcode\":barcode} }\n",
    "    return  invoices\n",
    "print(get_open_invoices())"
   ]
  },
  {
   "cell_type": "code",
   "execution_count": null,
   "id": "1c52e7f1-5263-4b1e-9244-55f6a0fcf8af",
   "metadata": {},
   "outputs": [],
   "source": []
  },
  {
   "cell_type": "code",
   "execution_count": null,
   "id": "a21f07af-dd83-49e8-9bcd-b4880a30f956",
   "metadata": {},
   "outputs": [],
   "source": []
  }
 ],
 "metadata": {
  "kernelspec": {
   "display_name": "Python 3 (ipykernel)",
   "language": "python",
   "name": "python3"
  },
  "language_info": {
   "codemirror_mode": {
    "name": "ipython",
    "version": 3
   },
   "file_extension": ".py",
   "mimetype": "text/x-python",
   "name": "python",
   "nbconvert_exporter": "python",
   "pygments_lexer": "ipython3",
   "version": "3.10.7"
  },
  "vscode": {
   "interpreter": {
    "hash": "a30343d8d0e6c1a63eb34c6277766d715d00494db238f5f72a779190013faf1c"
   }
  }
 },
 "nbformat": 4,
 "nbformat_minor": 5
}
