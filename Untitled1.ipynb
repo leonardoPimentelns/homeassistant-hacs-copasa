{
 "cells": [
  {
   "cell_type": "code",
   "execution_count": 14,
   "id": "773467ef-ca1f-4f58-9135-bf4ec4229536",
   "metadata": {},
   "outputs": [
    {
     "name": "stdout",
     "output_type": "stream",
     "text": [
      "11-2022\n"
     ]
    }
   ],
   "source": [
    "from datetime import timedelta,datetime\n",
    "dataVencimento = '202211'\n",
    "\n",
    "data = datetime.strptime(dataVencimento, '%Y%m').strftime(\"%m-%Y\")\n",
    "\n",
    "\n",
    "print(data)"
   ]
  },
  {
   "cell_type": "code",
   "execution_count": null,
   "id": "906816b2-97b7-4c1a-9ceb-a41d9285d755",
   "metadata": {},
   "outputs": [],
   "source": []
  }
 ],
 "metadata": {
  "kernelspec": {
   "display_name": "Python 3 (ipykernel)",
   "language": "python",
   "name": "python3"
  },
  "language_info": {
   "codemirror_mode": {
    "name": "ipython",
    "version": 3
   },
   "file_extension": ".py",
   "mimetype": "text/x-python",
   "name": "python",
   "nbconvert_exporter": "python",
   "pygments_lexer": "ipython3",
   "version": "3.10.7"
  }
 },
 "nbformat": 4,
 "nbformat_minor": 5
}
